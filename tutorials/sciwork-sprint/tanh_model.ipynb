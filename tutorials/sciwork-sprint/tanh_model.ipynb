{
 "cells": [
  {
   "cell_type": "markdown",
   "metadata": {},
   "source": [
    "## Prepare Model"
   ]
  },
  {
   "cell_type": "code",
   "execution_count": 1,
   "metadata": {
    "ExecuteTime": {
     "end_time": "2020-08-18T12:15:23.887705Z",
     "start_time": "2020-08-18T12:15:18.340822Z"
    }
   },
   "outputs": [],
   "source": [
    "import tensorflow as tf"
   ]
  },
  {
   "cell_type": "code",
   "execution_count": 2,
   "metadata": {
    "ExecuteTime": {
     "end_time": "2020-08-18T12:15:23.900127Z",
     "start_time": "2020-08-18T12:15:23.890821Z"
    }
   },
   "outputs": [],
   "source": [
    "class TanhModel(tf.keras.Model):\n",
    "    \n",
    "    def call(self, input_tensor):\n",
    "        return tf.keras.activations.tanh(input_tensor)"
   ]
  },
  {
   "cell_type": "code",
   "execution_count": 3,
   "metadata": {
    "ExecuteTime": {
     "end_time": "2020-08-18T12:15:23.982572Z",
     "start_time": "2020-08-18T12:15:23.913482Z"
    }
   },
   "outputs": [],
   "source": [
    "model = TanhModel()"
   ]
  },
  {
   "cell_type": "code",
   "execution_count": 4,
   "metadata": {
    "ExecuteTime": {
     "end_time": "2020-08-18T12:15:23.989340Z",
     "start_time": "2020-08-18T12:15:23.985361Z"
    }
   },
   "outputs": [],
   "source": [
    "import numpy as np"
   ]
  },
  {
   "cell_type": "code",
   "execution_count": 5,
   "metadata": {
    "ExecuteTime": {
     "end_time": "2020-08-18T12:15:24.000983Z",
     "start_time": "2020-08-18T12:15:23.991646Z"
    }
   },
   "outputs": [],
   "source": [
    "def representive_dataset(num_data=1024):\n",
    "    def dataset():\n",
    "        for _ in range(num_data):\n",
    "            yield [np.random.rand(128).astype('float32')]\n",
    "    return dataset"
   ]
  },
  {
   "cell_type": "code",
   "execution_count": 6,
   "metadata": {
    "ExecuteTime": {
     "end_time": "2020-08-18T12:15:24.506701Z",
     "start_time": "2020-08-18T12:15:24.499759Z"
    }
   },
   "outputs": [],
   "source": [
    "model._set_inputs(np.random.rand(128).astype('float32'))"
   ]
  },
  {
   "cell_type": "code",
   "execution_count": 7,
   "metadata": {
    "ExecuteTime": {
     "end_time": "2020-08-18T12:15:25.313068Z",
     "start_time": "2020-08-18T12:15:25.259045Z"
    }
   },
   "outputs": [],
   "source": [
    "convert = tf.lite.TFLiteConverter.from_keras_model(model)"
   ]
  },
  {
   "cell_type": "code",
   "execution_count": 8,
   "metadata": {
    "ExecuteTime": {
     "end_time": "2020-08-18T12:15:27.084459Z",
     "start_time": "2020-08-18T12:15:27.079938Z"
    }
   },
   "outputs": [],
   "source": [
    "convert.representative_dataset = representive_dataset()"
   ]
  },
  {
   "cell_type": "code",
   "execution_count": 9,
   "metadata": {
    "ExecuteTime": {
     "end_time": "2020-08-18T12:15:29.706888Z",
     "start_time": "2020-08-18T12:15:29.702767Z"
    }
   },
   "outputs": [],
   "source": [
    "convert.optimizations = [tf.lite.Optimize.DEFAULT]\n",
    "# convert.optimizations = []"
   ]
  },
  {
   "cell_type": "code",
   "execution_count": 10,
   "metadata": {
    "ExecuteTime": {
     "end_time": "2020-08-18T12:15:36.004053Z",
     "start_time": "2020-08-18T12:15:30.804321Z"
    }
   },
   "outputs": [],
   "source": [
    "tflm_model = convert.convert()"
   ]
  },
  {
   "cell_type": "code",
   "execution_count": 11,
   "metadata": {
    "ExecuteTime": {
     "end_time": "2020-08-18T12:15:36.018695Z",
     "start_time": "2020-08-18T12:15:36.007057Z"
    }
   },
   "outputs": [],
   "source": [
    "with open('tanh_model.tflite', 'wb') as fid:\n",
    "    fid.write(tflm_model)"
   ]
  },
  {
   "cell_type": "markdown",
   "metadata": {},
   "source": [
    "## Evaluation"
   ]
  },
  {
   "cell_type": "code",
   "execution_count": 12,
   "metadata": {
    "ExecuteTime": {
     "end_time": "2020-08-18T12:15:36.905690Z",
     "start_time": "2020-08-18T12:15:36.884678Z"
    }
   },
   "outputs": [],
   "source": [
    "interpretor = tf.lite.Interpreter(model_content=tflm_model)"
   ]
  },
  {
   "cell_type": "code",
   "execution_count": 13,
   "metadata": {
    "ExecuteTime": {
     "end_time": "2020-08-18T12:15:41.872244Z",
     "start_time": "2020-08-18T12:15:41.868632Z"
    }
   },
   "outputs": [],
   "source": [
    "interpretor.allocate_tensors()"
   ]
  },
  {
   "cell_type": "code",
   "execution_count": 14,
   "metadata": {
    "ExecuteTime": {
     "end_time": "2020-08-18T12:15:42.883078Z",
     "start_time": "2020-08-18T12:15:42.879845Z"
    }
   },
   "outputs": [],
   "source": [
    "x = np.random.rand(128)"
   ]
  },
  {
   "cell_type": "code",
   "execution_count": 15,
   "metadata": {
    "ExecuteTime": {
     "end_time": "2020-08-18T12:15:44.873292Z",
     "start_time": "2020-08-18T12:15:44.869845Z"
    }
   },
   "outputs": [],
   "source": [
    "in_idx = interpretor.get_input_details()[0]['index']"
   ]
  },
  {
   "cell_type": "code",
   "execution_count": 16,
   "metadata": {
    "ExecuteTime": {
     "end_time": "2020-08-18T12:15:45.303081Z",
     "start_time": "2020-08-18T12:15:45.298680Z"
    }
   },
   "outputs": [],
   "source": [
    "interpretor.set_tensor(in_idx, x.astype('float32'))"
   ]
  },
  {
   "cell_type": "code",
   "execution_count": 17,
   "metadata": {
    "ExecuteTime": {
     "end_time": "2020-08-18T12:15:45.678898Z",
     "start_time": "2020-08-18T12:15:45.665882Z"
    }
   },
   "outputs": [
    {
     "data": {
      "text/plain": [
       "4"
      ]
     },
     "execution_count": 17,
     "metadata": {},
     "output_type": "execute_result"
    }
   ],
   "source": [
    "interpretor._interpreter.NumTensors()"
   ]
  },
  {
   "cell_type": "code",
   "execution_count": 18,
   "metadata": {
    "ExecuteTime": {
     "end_time": "2020-08-18T12:15:48.047779Z",
     "start_time": "2020-08-18T12:15:48.033053Z"
    }
   },
   "outputs": [
    {
     "data": {
      "text/plain": [
       "[{'name': 'input_1_int8',\n",
       "  'index': 0,\n",
       "  'shape': array([128], dtype=int32),\n",
       "  'shape_signature': array([128], dtype=int32),\n",
       "  'dtype': numpy.int8,\n",
       "  'quantization': (0.003921540454030037, -128),\n",
       "  'quantization_parameters': {'scales': array([0.00392154], dtype=float32),\n",
       "   'zero_points': array([-128], dtype=int32),\n",
       "   'quantized_dimension': 0},\n",
       "  'sparsity_parameters': {}},\n",
       " {'name': 'Identity_int8',\n",
       "  'index': 1,\n",
       "  'shape': array([128], dtype=int32),\n",
       "  'shape_signature': array([128], dtype=int32),\n",
       "  'dtype': numpy.int8,\n",
       "  'quantization': (0.0078125, 0),\n",
       "  'quantization_parameters': {'scales': array([0.0078125], dtype=float32),\n",
       "   'zero_points': array([0], dtype=int32),\n",
       "   'quantized_dimension': 0},\n",
       "  'sparsity_parameters': {}},\n",
       " {'name': 'input_1',\n",
       "  'index': 2,\n",
       "  'shape': array([128], dtype=int32),\n",
       "  'shape_signature': array([128], dtype=int32),\n",
       "  'dtype': numpy.float32,\n",
       "  'quantization': (0.0, 0),\n",
       "  'quantization_parameters': {'scales': array([], dtype=float32),\n",
       "   'zero_points': array([], dtype=int32),\n",
       "   'quantized_dimension': 0},\n",
       "  'sparsity_parameters': {}},\n",
       " {'name': 'Identity',\n",
       "  'index': 3,\n",
       "  'shape': array([128], dtype=int32),\n",
       "  'shape_signature': array([128], dtype=int32),\n",
       "  'dtype': numpy.float32,\n",
       "  'quantization': (0.0, 0),\n",
       "  'quantization_parameters': {'scales': array([], dtype=float32),\n",
       "   'zero_points': array([], dtype=int32),\n",
       "   'quantized_dimension': 0},\n",
       "  'sparsity_parameters': {}}]"
      ]
     },
     "execution_count": 18,
     "metadata": {},
     "output_type": "execute_result"
    }
   ],
   "source": [
    "interpretor.get_tensor_details()"
   ]
  },
  {
   "cell_type": "code",
   "execution_count": 25,
   "metadata": {
    "ExecuteTime": {
     "end_time": "2020-08-18T12:16:33.244526Z",
     "start_time": "2020-08-18T12:16:33.239060Z"
    }
   },
   "outputs": [
    {
     "data": {
      "text/plain": [
       "'TANH'"
      ]
     },
     "execution_count": 25,
     "metadata": {},
     "output_type": "execute_result"
    }
   ],
   "source": [
    "interpretor._interpreter.NodeName(1)"
   ]
  },
  {
   "cell_type": "code",
   "execution_count": 26,
   "metadata": {
    "ExecuteTime": {
     "end_time": "2020-08-18T12:16:43.683852Z",
     "start_time": "2020-08-18T12:16:43.674108Z"
    }
   },
   "outputs": [
    {
     "data": {
      "text/plain": [
       "array([0], dtype=int32)"
      ]
     },
     "execution_count": 26,
     "metadata": {},
     "output_type": "execute_result"
    }
   ],
   "source": [
    "interpretor._interpreter.NodeInputs(1)"
   ]
  },
  {
   "cell_type": "code",
   "execution_count": 27,
   "metadata": {
    "ExecuteTime": {
     "end_time": "2020-08-18T12:16:54.533376Z",
     "start_time": "2020-08-18T12:16:54.527975Z"
    }
   },
   "outputs": [
    {
     "data": {
      "text/plain": [
       "array([1], dtype=int32)"
      ]
     },
     "execution_count": 27,
     "metadata": {},
     "output_type": "execute_result"
    }
   ],
   "source": [
    "interpretor._interpreter.NodeOutputs(1)"
   ]
  },
  {
   "cell_type": "code",
   "execution_count": 29,
   "metadata": {
    "ExecuteTime": {
     "end_time": "2020-08-18T12:21:04.203292Z",
     "start_time": "2020-08-18T12:21:04.197563Z"
    }
   },
   "outputs": [
    {
     "data": {
      "text/plain": [
       "3"
      ]
     },
     "execution_count": 29,
     "metadata": {},
     "output_type": "execute_result"
    }
   ],
   "source": [
    "interpretor._interpreter.NumNodes()"
   ]
  },
  {
   "cell_type": "code",
   "execution_count": 31,
   "metadata": {
    "ExecuteTime": {
     "end_time": "2020-08-18T12:23:08.793051Z",
     "start_time": "2020-08-18T12:23:08.784071Z"
    }
   },
   "outputs": [
    {
     "data": {
      "text/plain": [
       "'TANH'"
      ]
     },
     "execution_count": 31,
     "metadata": {},
     "output_type": "execute_result"
    }
   ],
   "source": [
    "interpretor._interpreter.NodeName(1)"
   ]
  },
  {
   "cell_type": "code",
   "execution_count": 28,
   "metadata": {
    "ExecuteTime": {
     "end_time": "2020-08-18T12:17:26.627470Z",
     "start_time": "2020-08-18T12:17:26.618436Z"
    }
   },
   "outputs": [
    {
     "data": {
      "text/plain": [
       "[{'name': 'input_1_int8',\n",
       "  'index': 0,\n",
       "  'shape': array([128], dtype=int32),\n",
       "  'shape_signature': array([128], dtype=int32),\n",
       "  'dtype': numpy.int8,\n",
       "  'quantization': (0.003921540454030037, -128),\n",
       "  'quantization_parameters': {'scales': array([0.00392154], dtype=float32),\n",
       "   'zero_points': array([-128], dtype=int32),\n",
       "   'quantized_dimension': 0},\n",
       "  'sparsity_parameters': {}},\n",
       " {'name': 'Identity_int8',\n",
       "  'index': 1,\n",
       "  'shape': array([128], dtype=int32),\n",
       "  'shape_signature': array([128], dtype=int32),\n",
       "  'dtype': numpy.int8,\n",
       "  'quantization': (0.0078125, 0),\n",
       "  'quantization_parameters': {'scales': array([0.0078125], dtype=float32),\n",
       "   'zero_points': array([0], dtype=int32),\n",
       "   'quantized_dimension': 0},\n",
       "  'sparsity_parameters': {}},\n",
       " {'name': 'input_1',\n",
       "  'index': 2,\n",
       "  'shape': array([128], dtype=int32),\n",
       "  'shape_signature': array([128], dtype=int32),\n",
       "  'dtype': numpy.float32,\n",
       "  'quantization': (0.0, 0),\n",
       "  'quantization_parameters': {'scales': array([], dtype=float32),\n",
       "   'zero_points': array([], dtype=int32),\n",
       "   'quantized_dimension': 0},\n",
       "  'sparsity_parameters': {}},\n",
       " {'name': 'Identity',\n",
       "  'index': 3,\n",
       "  'shape': array([128], dtype=int32),\n",
       "  'shape_signature': array([128], dtype=int32),\n",
       "  'dtype': numpy.float32,\n",
       "  'quantization': (0.0, 0),\n",
       "  'quantization_parameters': {'scales': array([], dtype=float32),\n",
       "   'zero_points': array([], dtype=int32),\n",
       "   'quantized_dimension': 0},\n",
       "  'sparsity_parameters': {}}]"
      ]
     },
     "execution_count": 28,
     "metadata": {},
     "output_type": "execute_result"
    }
   ],
   "source": [
    "interpretor.get_tensor_details()"
   ]
  },
  {
   "cell_type": "code",
   "execution_count": null,
   "metadata": {},
   "outputs": [],
   "source": []
  },
  {
   "cell_type": "code",
   "execution_count": null,
   "metadata": {},
   "outputs": [],
   "source": []
  },
  {
   "cell_type": "code",
   "execution_count": null,
   "metadata": {},
   "outputs": [],
   "source": []
  },
  {
   "cell_type": "code",
   "execution_count": 19,
   "metadata": {
    "ExecuteTime": {
     "end_time": "2020-08-18T12:16:08.883683Z",
     "start_time": "2020-08-18T12:16:08.880409Z"
    }
   },
   "outputs": [],
   "source": [
    "interpretor.invoke()"
   ]
  },
  {
   "cell_type": "code",
   "execution_count": 20,
   "metadata": {
    "ExecuteTime": {
     "end_time": "2020-08-18T12:16:10.128659Z",
     "start_time": "2020-08-18T12:16:10.125541Z"
    }
   },
   "outputs": [],
   "source": [
    "out_idx = interpretor.get_output_details()[0]['index']"
   ]
  },
  {
   "cell_type": "code",
   "execution_count": 21,
   "metadata": {
    "ExecuteTime": {
     "end_time": "2020-08-18T12:16:10.732658Z",
     "start_time": "2020-08-18T12:16:10.729335Z"
    }
   },
   "outputs": [],
   "source": [
    "out = interpretor.tensor(out_idx)"
   ]
  },
  {
   "cell_type": "code",
   "execution_count": 22,
   "metadata": {
    "ExecuteTime": {
     "end_time": "2020-08-18T12:16:11.266880Z",
     "start_time": "2020-08-18T12:16:11.252856Z"
    }
   },
   "outputs": [
    {
     "data": {
      "text/plain": [
       "array([0.5234375, 0.25     , 0.75     , 0.671875 , 0.703125 , 0.3125   ,\n",
       "       0.5625   , 0.5      , 0.3203125, 0.7265625, 0.125    , 0.4375   ,\n",
       "       0.609375 , 0.65625  , 0.6796875, 0.515625 , 0.3125   , 0.1484375,\n",
       "       0.03125  , 0.296875 , 0.0078125, 0.03125  , 0.609375 , 0.109375 ,\n",
       "       0.4140625, 0.28125  , 0.0625   , 0.4765625, 0.1484375, 0.3984375,\n",
       "       0.3671875, 0.734375 , 0.2890625, 0.4140625, 0.5625   , 0.734375 ,\n",
       "       0.7265625, 0.       , 0.3671875, 0.0390625, 0.25     , 0.3515625,\n",
       "       0.1171875, 0.1328125, 0.4375   , 0.4609375, 0.328125 , 0.71875  ,\n",
       "       0.3515625, 0.2734375, 0.0546875, 0.5234375, 0.7109375, 0.7578125,\n",
       "       0.5      , 0.4609375, 0.3359375, 0.703125 , 0.703125 , 0.6953125,\n",
       "       0.109375 , 0.140625 , 0.6875   , 0.625    , 0.671875 , 0.296875 ,\n",
       "       0.6875   , 0.4296875, 0.296875 , 0.734375 , 0.75     , 0.3828125,\n",
       "       0.4296875, 0.71875  , 0.7421875, 0.0390625, 0.5625   , 0.671875 ,\n",
       "       0.1875   , 0.671875 , 0.4453125, 0.3359375, 0.3203125, 0.1796875,\n",
       "       0.15625  , 0.4140625, 0.140625 , 0.3203125, 0.296875 , 0.546875 ,\n",
       "       0.0625   , 0.1171875, 0.6953125, 0.6875   , 0.15625  , 0.5859375,\n",
       "       0.625    , 0.6953125, 0.7109375, 0.0234375, 0.0546875, 0.6171875,\n",
       "       0.2578125, 0.265625 , 0.5390625, 0.2421875, 0.6953125, 0.5      ,\n",
       "       0.7109375, 0.6640625, 0.65625  , 0.0859375, 0.390625 , 0.296875 ,\n",
       "       0.6328125, 0.1953125, 0.3046875, 0.1796875, 0.296875 , 0.6796875,\n",
       "       0.5859375, 0.7578125, 0.2109375, 0.7265625, 0.2578125, 0.4296875,\n",
       "       0.703125 , 0.4765625], dtype=float32)"
      ]
     },
     "execution_count": 22,
     "metadata": {},
     "output_type": "execute_result"
    }
   ],
   "source": [
    "out()"
   ]
  },
  {
   "cell_type": "code",
   "execution_count": 23,
   "metadata": {
    "ExecuteTime": {
     "end_time": "2020-08-18T12:16:12.179899Z",
     "start_time": "2020-08-18T12:16:12.168000Z"
    }
   },
   "outputs": [
    {
     "data": {
      "text/plain": [
       "True"
      ]
     },
     "execution_count": 23,
     "metadata": {},
     "output_type": "execute_result"
    }
   ],
   "source": [
    "np.isclose(np.tanh(x), out(), atol=0.01).all()"
   ]
  },
  {
   "cell_type": "code",
   "execution_count": null,
   "metadata": {},
   "outputs": [],
   "source": []
  }
 ],
 "metadata": {
  "kernelspec": {
   "display_name": "utensor",
   "language": "python",
   "name": "utensor"
  },
  "language_info": {
   "codemirror_mode": {
    "name": "ipython",
    "version": 3
   },
   "file_extension": ".py",
   "mimetype": "text/x-python",
   "name": "python",
   "nbconvert_exporter": "python",
   "pygments_lexer": "ipython3",
   "version": "3.7.2"
  },
  "toc": {
   "base_numbering": 1,
   "nav_menu": {},
   "number_sections": true,
   "sideBar": true,
   "skip_h1_title": false,
   "title_cell": "Table of Contents",
   "title_sidebar": "Contents",
   "toc_cell": false,
   "toc_position": {},
   "toc_section_display": true,
   "toc_window_display": false
  }
 },
 "nbformat": 4,
 "nbformat_minor": 4
}
